{
 "cells": [
  {
   "metadata": {
    "ExecuteTime": {
     "end_time": "2025-09-27T14:43:13.343414Z",
     "start_time": "2025-09-27T14:43:12.959542Z"
    }
   },
   "cell_type": "code",
   "source": [
    "import pandas as pd\n",
    "import ast"
   ],
   "id": "5ca176612242747f",
   "outputs": [],
   "execution_count": 2
  },
  {
   "metadata": {
    "ExecuteTime": {
     "end_time": "2025-09-27T14:43:14.266096Z",
     "start_time": "2025-09-27T14:43:14.263635Z"
    }
   },
   "cell_type": "code",
   "source": [
    "column_converters = {\"ingredients\" : ast.literal_eval,\n",
    "                     \"directions\" : ast.literal_eval,\n",
    "                     \"NER\" : ast.literal_eval}"
   ],
   "id": "b9518d5f32a57296",
   "outputs": [],
   "execution_count": 3
  },
  {
   "metadata": {
    "ExecuteTime": {
     "end_time": "2025-09-27T14:43:20.302291Z",
     "start_time": "2025-09-27T14:43:19.774458Z"
    }
   },
   "cell_type": "code",
   "source": "df = pd.read_csv(\"../data/dataset_processed.csv\", converters = column_converters)",
   "id": "d32c010c404cdf4f",
   "outputs": [],
   "execution_count": 4
  },
  {
   "metadata": {
    "ExecuteTime": {
     "end_time": "2025-09-27T14:43:23.755779Z",
     "start_time": "2025-09-27T14:43:23.738638Z"
    }
   },
   "cell_type": "code",
   "source": "df.head(5)",
   "id": "b2ba8abf7bb456c6",
   "outputs": [
    {
     "data": {
      "text/plain": [
       "                                  title  \\\n",
       "0                 Ginger Orange Muffins   \n",
       "1  Brown Sugar Custard Pie With Peanuts   \n",
       "2             Cornbread (Sweet & Moist)   \n",
       "3            Canadian Bacon Potato Soup   \n",
       "4              Fresh Mexican Bean Salad   \n",
       "\n",
       "                                         ingredients  \\\n",
       "0  [1 3/4 cups flour, 1 1/2 teaspoons baking powd...   \n",
       "1  [1/2 c. light brown sugar, firmly packed, 4 eg...   \n",
       "2  [1 cup cornmeal (yellow), 1 cup flour (all-pur...   \n",
       "3  [2 medium onions, chopped, 4 medium potatoes, ...   \n",
       "4  [12 cup lightly packed fresh cilantro, 14 cup ...   \n",
       "\n",
       "                                          directions  \\\n",
       "0  [Preheat oven to 375 degrees., Combine flour, ...   \n",
       "1  [Combine brown sugar, sugar, salt, eggs and va...   \n",
       "2  [Preheat your oven to 425°F., First, add all o...   \n",
       "3  [In a large saucepan or Dutch oven coated with...   \n",
       "4  [Transfer cilantro, olive oil, vegetable oil, ...   \n",
       "\n",
       "                                                link     source  \\\n",
       "0    www.food.com/recipe/ginger-orange-muffins-12535   Gathered   \n",
       "1    www.cookbooks.com/Recipe-Details.aspx?id=697374   Gathered   \n",
       "2   www.food.com/recipe/cornbread-sweet-moist-303503   Gathered   \n",
       "3  www.tasteofhome.com/recipes/canadian-bacon-pot...   Gathered   \n",
       "4  www.food.com/recipe/fresh-mexican-bean-salad-5...  Recipes1M   \n",
       "\n",
       "                                                 NER  \n",
       "0  [flour, baking powder, baking soda, salt, oran...  \n",
       "1  [light brown sugar, eggs, milk, peanuts, sugar...  \n",
       "2  [cornmeal, flour, sugar, brown sugar, baking p...  \n",
       "3  [onions, potatoes, chicken broth, milk, bacon,...  \n",
       "4  [cilantro, olive oil, vegetable oil, red wine ...  "
      ],
      "text/html": [
       "<div>\n",
       "<style scoped>\n",
       "    .dataframe tbody tr th:only-of-type {\n",
       "        vertical-align: middle;\n",
       "    }\n",
       "\n",
       "    .dataframe tbody tr th {\n",
       "        vertical-align: top;\n",
       "    }\n",
       "\n",
       "    .dataframe thead th {\n",
       "        text-align: right;\n",
       "    }\n",
       "</style>\n",
       "<table border=\"1\" class=\"dataframe\">\n",
       "  <thead>\n",
       "    <tr style=\"text-align: right;\">\n",
       "      <th></th>\n",
       "      <th>title</th>\n",
       "      <th>ingredients</th>\n",
       "      <th>directions</th>\n",
       "      <th>link</th>\n",
       "      <th>source</th>\n",
       "      <th>NER</th>\n",
       "    </tr>\n",
       "  </thead>\n",
       "  <tbody>\n",
       "    <tr>\n",
       "      <th>0</th>\n",
       "      <td>Ginger Orange Muffins</td>\n",
       "      <td>[1 3/4 cups flour, 1 1/2 teaspoons baking powd...</td>\n",
       "      <td>[Preheat oven to 375 degrees., Combine flour, ...</td>\n",
       "      <td>www.food.com/recipe/ginger-orange-muffins-12535</td>\n",
       "      <td>Gathered</td>\n",
       "      <td>[flour, baking powder, baking soda, salt, oran...</td>\n",
       "    </tr>\n",
       "    <tr>\n",
       "      <th>1</th>\n",
       "      <td>Brown Sugar Custard Pie With Peanuts</td>\n",
       "      <td>[1/2 c. light brown sugar, firmly packed, 4 eg...</td>\n",
       "      <td>[Combine brown sugar, sugar, salt, eggs and va...</td>\n",
       "      <td>www.cookbooks.com/Recipe-Details.aspx?id=697374</td>\n",
       "      <td>Gathered</td>\n",
       "      <td>[light brown sugar, eggs, milk, peanuts, sugar...</td>\n",
       "    </tr>\n",
       "    <tr>\n",
       "      <th>2</th>\n",
       "      <td>Cornbread (Sweet &amp; Moist)</td>\n",
       "      <td>[1 cup cornmeal (yellow), 1 cup flour (all-pur...</td>\n",
       "      <td>[Preheat your oven to 425°F., First, add all o...</td>\n",
       "      <td>www.food.com/recipe/cornbread-sweet-moist-303503</td>\n",
       "      <td>Gathered</td>\n",
       "      <td>[cornmeal, flour, sugar, brown sugar, baking p...</td>\n",
       "    </tr>\n",
       "    <tr>\n",
       "      <th>3</th>\n",
       "      <td>Canadian Bacon Potato Soup</td>\n",
       "      <td>[2 medium onions, chopped, 4 medium potatoes, ...</td>\n",
       "      <td>[In a large saucepan or Dutch oven coated with...</td>\n",
       "      <td>www.tasteofhome.com/recipes/canadian-bacon-pot...</td>\n",
       "      <td>Gathered</td>\n",
       "      <td>[onions, potatoes, chicken broth, milk, bacon,...</td>\n",
       "    </tr>\n",
       "    <tr>\n",
       "      <th>4</th>\n",
       "      <td>Fresh Mexican Bean Salad</td>\n",
       "      <td>[12 cup lightly packed fresh cilantro, 14 cup ...</td>\n",
       "      <td>[Transfer cilantro, olive oil, vegetable oil, ...</td>\n",
       "      <td>www.food.com/recipe/fresh-mexican-bean-salad-5...</td>\n",
       "      <td>Recipes1M</td>\n",
       "      <td>[cilantro, olive oil, vegetable oil, red wine ...</td>\n",
       "    </tr>\n",
       "  </tbody>\n",
       "</table>\n",
       "</div>"
      ]
     },
     "execution_count": 5,
     "metadata": {},
     "output_type": "execute_result"
    }
   ],
   "execution_count": 5
  },
  {
   "metadata": {
    "ExecuteTime": {
     "end_time": "2025-09-27T14:43:30.056120Z",
     "start_time": "2025-09-27T14:43:30.048891Z"
    }
   },
   "cell_type": "code",
   "source": "df[\"title\"].count()",
   "id": "82e7f99c3479006e",
   "outputs": [
    {
     "data": {
      "text/plain": [
       "np.int64(10000)"
      ]
     },
     "execution_count": 6,
     "metadata": {},
     "output_type": "execute_result"
    }
   ],
   "execution_count": 6
  },
  {
   "metadata": {
    "ExecuteTime": {
     "end_time": "2025-09-27T14:43:32.313111Z",
     "start_time": "2025-09-27T14:43:32.309686Z"
    }
   },
   "cell_type": "code",
   "source": [
    "def find_recipes_by_ingredient(ingredient_name):\n",
    "    lower_target = ingredient_name.lower()\n",
    "    mask = df[\"NER\"].apply(lambda ner: lower_target in [i.lower() for i in ner])\n",
    "\n",
    "    return df[mask][\"title\"]"
   ],
   "id": "3062dfbf7fe51a2c",
   "outputs": [],
   "execution_count": 7
  },
  {
   "metadata": {
    "ExecuteTime": {
     "end_time": "2025-09-27T14:43:34.229470Z",
     "start_time": "2025-09-27T14:43:34.215790Z"
    }
   },
   "cell_type": "code",
   "source": "recipes_with_chicken = find_recipes_by_ingredient(\"chicken\")",
   "id": "d6fe5e71cd6e8d93",
   "outputs": [],
   "execution_count": 8
  },
  {
   "metadata": {
    "ExecuteTime": {
     "end_time": "2025-09-27T14:43:49.526430Z",
     "start_time": "2025-09-27T14:43:49.522703Z"
    }
   },
   "cell_type": "code",
   "source": "recipes_with_chicken.head(5)",
   "id": "f9ee394a3bd6c52",
   "outputs": [
    {
     "data": {
      "text/plain": [
       "5     Chicken And Peas Au Gratin Casserole\n",
       "10                  Buffalo Chicken Wings \n",
       "37                  Boston Chicken Chowder\n",
       "76                      Chicken Enchiladas\n",
       "93                           Baked Chicken\n",
       "Name: title, dtype: object"
      ]
     },
     "execution_count": 10,
     "metadata": {},
     "output_type": "execute_result"
    }
   ],
   "execution_count": 10
  },
  {
   "metadata": {
    "ExecuteTime": {
     "end_time": "2025-09-27T14:49:30.571886Z",
     "start_time": "2025-09-27T14:49:30.568227Z"
    }
   },
   "cell_type": "code",
   "source": [
    "def get_recipe_details(recipe_title):\n",
    "    recipe = df[df[\"title\"] == recipe_title]\n",
    "    if recipe.empty:\n",
    "        return None\n",
    "    return {\"ingredients\" : recipe[\"ingredients\"].iloc[0],\n",
    "            \"NER\" : recipe[\"NER\"].iloc[0],\n",
    "            \"recipe\" : recipe[\"directions\"].iloc[0],}\n"
   ],
   "id": "2bf714a1502fc0a5",
   "outputs": [],
   "execution_count": 11
  },
  {
   "metadata": {
    "ExecuteTime": {
     "end_time": "2025-09-27T14:50:13.982633Z",
     "start_time": "2025-09-27T14:50:13.970073Z"
    }
   },
   "cell_type": "code",
   "source": "df.sample(1)",
   "id": "80597b5211d701ee",
   "outputs": [
    {
     "data": {
      "text/plain": [
       "            title                                        ingredients  \\\n",
       "3658  Fruit Salad  [1 large can fruit cocktail with juice, 1 larg...   \n",
       "\n",
       "                                             directions  \\\n",
       "3658  [Mix above., Chill in refrigerator overnite., ...   \n",
       "\n",
       "                                                 link    source  \\\n",
       "3658  www.cookbooks.com/Recipe-Details.aspx?id=352620  Gathered   \n",
       "\n",
       "                                                    NER  \n",
       "3658  [pineapple, peach, with juice, bananas, apples...  "
      ],
      "text/html": [
       "<div>\n",
       "<style scoped>\n",
       "    .dataframe tbody tr th:only-of-type {\n",
       "        vertical-align: middle;\n",
       "    }\n",
       "\n",
       "    .dataframe tbody tr th {\n",
       "        vertical-align: top;\n",
       "    }\n",
       "\n",
       "    .dataframe thead th {\n",
       "        text-align: right;\n",
       "    }\n",
       "</style>\n",
       "<table border=\"1\" class=\"dataframe\">\n",
       "  <thead>\n",
       "    <tr style=\"text-align: right;\">\n",
       "      <th></th>\n",
       "      <th>title</th>\n",
       "      <th>ingredients</th>\n",
       "      <th>directions</th>\n",
       "      <th>link</th>\n",
       "      <th>source</th>\n",
       "      <th>NER</th>\n",
       "    </tr>\n",
       "  </thead>\n",
       "  <tbody>\n",
       "    <tr>\n",
       "      <th>3658</th>\n",
       "      <td>Fruit Salad</td>\n",
       "      <td>[1 large can fruit cocktail with juice, 1 larg...</td>\n",
       "      <td>[Mix above., Chill in refrigerator overnite., ...</td>\n",
       "      <td>www.cookbooks.com/Recipe-Details.aspx?id=352620</td>\n",
       "      <td>Gathered</td>\n",
       "      <td>[pineapple, peach, with juice, bananas, apples...</td>\n",
       "    </tr>\n",
       "  </tbody>\n",
       "</table>\n",
       "</div>"
      ]
     },
     "execution_count": 12,
     "metadata": {},
     "output_type": "execute_result"
    }
   ],
   "execution_count": 12
  },
  {
   "metadata": {
    "ExecuteTime": {
     "end_time": "2025-09-27T14:50:29.724023Z",
     "start_time": "2025-09-27T14:50:29.719529Z"
    }
   },
   "cell_type": "code",
   "source": [
    "recipe_info = get_recipe_details(\"Fruit Salad\")\n",
    "\n",
    "recipe_info"
   ],
   "id": "6e04aafd79e037d8",
   "outputs": [
    {
     "data": {
      "text/plain": [
       "{'ingredients': ['1 (10 oz.) jar maraschino cherries',\n",
       "  '2 (15 oz.) cans pineapple tidbits',\n",
       "  '1 (32 oz.) can fruit cocktail',\n",
       "  '2 (3 oz.) cook-kind vanilla pudding',\n",
       "  '2 (3 oz.) boxes cook-kind Jell-O tapioca pudding',\n",
       "  '1 (11 oz.) can mandarin oranges',\n",
       "  '1 tsp. orange extract'],\n",
       " 'NER': ['maraschino cherries',\n",
       "  'pineapple tidbits',\n",
       "  'fruit cocktail',\n",
       "  'cook-kind vanilla pudding',\n",
       "  'cook-kind',\n",
       "  'mandarin oranges',\n",
       "  'orange extract'],\n",
       " 'recipe': ['Open and drain all fruit.',\n",
       "  'Save the juice.',\n",
       "  'Use 6 cups of juice to cook pudding and tapioca.',\n",
       "  'If not enough juice, add water to make 6 cups.',\n",
       "  'Cook pudding; cool, then add fruit.',\n",
       "  'Store in fridge.']}"
      ]
     },
     "execution_count": 13,
     "metadata": {},
     "output_type": "execute_result"
    }
   ],
   "execution_count": 13
  }
 ],
 "metadata": {
  "kernelspec": {
   "name": "python3",
   "language": "python",
   "display_name": "Python 3 (ipykernel)"
  }
 },
 "nbformat": 4,
 "nbformat_minor": 5
}

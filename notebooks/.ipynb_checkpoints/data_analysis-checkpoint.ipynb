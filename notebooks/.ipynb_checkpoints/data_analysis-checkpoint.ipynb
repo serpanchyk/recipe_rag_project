{
 "cells": [
  {
   "cell_type": "code",
   "id": "initial_id",
   "metadata": {
    "collapsed": true,
    "ExecuteTime": {
     "end_time": "2025-09-27T12:45:26.200941Z",
     "start_time": "2025-09-27T12:45:25.712217Z"
    }
   },
   "source": "import pandas as pd",
   "outputs": [],
   "execution_count": 1
  },
  {
   "metadata": {
    "ExecuteTime": {
     "end_time": "2025-09-27T12:51:51.564534Z",
     "start_time": "2025-09-27T12:51:28.708264Z"
    }
   },
   "cell_type": "code",
   "source": [
    "df = pd.read_csv(\"../data/full_dataset.csv\")\n",
    "df.head(5)"
   ],
   "id": "33c962a0bd6491af",
   "outputs": [
    {
     "data": {
      "text/plain": [
       "   Unnamed: 0                  title  \\\n",
       "0           0    No-Bake Nut Cookies   \n",
       "1           1  Jewell Ball'S Chicken   \n",
       "2           2            Creamy Corn   \n",
       "3           3          Chicken Funny   \n",
       "4           4   Reeses Cups(Candy)     \n",
       "\n",
       "                                         ingredients  \\\n",
       "0  [\"1 c. firmly packed brown sugar\", \"1/2 c. eva...   \n",
       "1  [\"1 small jar chipped beef, cut up\", \"4 boned ...   \n",
       "2  [\"2 (16 oz.) pkg. frozen corn\", \"1 (8 oz.) pkg...   \n",
       "3  [\"1 large whole chicken\", \"2 (10 1/2 oz.) cans...   \n",
       "4  [\"1 c. peanut butter\", \"3/4 c. graham cracker ...   \n",
       "\n",
       "                                          directions  \\\n",
       "0  [\"In a heavy 2-quart saucepan, mix brown sugar...   \n",
       "1  [\"Place chipped beef on bottom of baking dish....   \n",
       "2  [\"In a slow cooker, combine all ingredients. C...   \n",
       "3  [\"Boil and debone chicken.\", \"Put bite size pi...   \n",
       "4  [\"Combine first four ingredients and press in ...   \n",
       "\n",
       "                                              link    source  \\\n",
       "0   www.cookbooks.com/Recipe-Details.aspx?id=44874  Gathered   \n",
       "1  www.cookbooks.com/Recipe-Details.aspx?id=699419  Gathered   \n",
       "2   www.cookbooks.com/Recipe-Details.aspx?id=10570  Gathered   \n",
       "3  www.cookbooks.com/Recipe-Details.aspx?id=897570  Gathered   \n",
       "4  www.cookbooks.com/Recipe-Details.aspx?id=659239  Gathered   \n",
       "\n",
       "                                                 NER  \n",
       "0  [\"brown sugar\", \"milk\", \"vanilla\", \"nuts\", \"bu...  \n",
       "1  [\"beef\", \"chicken breasts\", \"cream of mushroom...  \n",
       "2  [\"frozen corn\", \"cream cheese\", \"butter\", \"gar...  \n",
       "3  [\"chicken\", \"chicken gravy\", \"cream of mushroo...  \n",
       "4  [\"peanut butter\", \"graham cracker crumbs\", \"bu...  "
      ],
      "text/html": [
       "<div>\n",
       "<style scoped>\n",
       "    .dataframe tbody tr th:only-of-type {\n",
       "        vertical-align: middle;\n",
       "    }\n",
       "\n",
       "    .dataframe tbody tr th {\n",
       "        vertical-align: top;\n",
       "    }\n",
       "\n",
       "    .dataframe thead th {\n",
       "        text-align: right;\n",
       "    }\n",
       "</style>\n",
       "<table border=\"1\" class=\"dataframe\">\n",
       "  <thead>\n",
       "    <tr style=\"text-align: right;\">\n",
       "      <th></th>\n",
       "      <th>Unnamed: 0</th>\n",
       "      <th>title</th>\n",
       "      <th>ingredients</th>\n",
       "      <th>directions</th>\n",
       "      <th>link</th>\n",
       "      <th>source</th>\n",
       "      <th>NER</th>\n",
       "    </tr>\n",
       "  </thead>\n",
       "  <tbody>\n",
       "    <tr>\n",
       "      <th>0</th>\n",
       "      <td>0</td>\n",
       "      <td>No-Bake Nut Cookies</td>\n",
       "      <td>[\"1 c. firmly packed brown sugar\", \"1/2 c. eva...</td>\n",
       "      <td>[\"In a heavy 2-quart saucepan, mix brown sugar...</td>\n",
       "      <td>www.cookbooks.com/Recipe-Details.aspx?id=44874</td>\n",
       "      <td>Gathered</td>\n",
       "      <td>[\"brown sugar\", \"milk\", \"vanilla\", \"nuts\", \"bu...</td>\n",
       "    </tr>\n",
       "    <tr>\n",
       "      <th>1</th>\n",
       "      <td>1</td>\n",
       "      <td>Jewell Ball'S Chicken</td>\n",
       "      <td>[\"1 small jar chipped beef, cut up\", \"4 boned ...</td>\n",
       "      <td>[\"Place chipped beef on bottom of baking dish....</td>\n",
       "      <td>www.cookbooks.com/Recipe-Details.aspx?id=699419</td>\n",
       "      <td>Gathered</td>\n",
       "      <td>[\"beef\", \"chicken breasts\", \"cream of mushroom...</td>\n",
       "    </tr>\n",
       "    <tr>\n",
       "      <th>2</th>\n",
       "      <td>2</td>\n",
       "      <td>Creamy Corn</td>\n",
       "      <td>[\"2 (16 oz.) pkg. frozen corn\", \"1 (8 oz.) pkg...</td>\n",
       "      <td>[\"In a slow cooker, combine all ingredients. C...</td>\n",
       "      <td>www.cookbooks.com/Recipe-Details.aspx?id=10570</td>\n",
       "      <td>Gathered</td>\n",
       "      <td>[\"frozen corn\", \"cream cheese\", \"butter\", \"gar...</td>\n",
       "    </tr>\n",
       "    <tr>\n",
       "      <th>3</th>\n",
       "      <td>3</td>\n",
       "      <td>Chicken Funny</td>\n",
       "      <td>[\"1 large whole chicken\", \"2 (10 1/2 oz.) cans...</td>\n",
       "      <td>[\"Boil and debone chicken.\", \"Put bite size pi...</td>\n",
       "      <td>www.cookbooks.com/Recipe-Details.aspx?id=897570</td>\n",
       "      <td>Gathered</td>\n",
       "      <td>[\"chicken\", \"chicken gravy\", \"cream of mushroo...</td>\n",
       "    </tr>\n",
       "    <tr>\n",
       "      <th>4</th>\n",
       "      <td>4</td>\n",
       "      <td>Reeses Cups(Candy)</td>\n",
       "      <td>[\"1 c. peanut butter\", \"3/4 c. graham cracker ...</td>\n",
       "      <td>[\"Combine first four ingredients and press in ...</td>\n",
       "      <td>www.cookbooks.com/Recipe-Details.aspx?id=659239</td>\n",
       "      <td>Gathered</td>\n",
       "      <td>[\"peanut butter\", \"graham cracker crumbs\", \"bu...</td>\n",
       "    </tr>\n",
       "  </tbody>\n",
       "</table>\n",
       "</div>"
      ]
     },
     "execution_count": 8,
     "metadata": {},
     "output_type": "execute_result"
    }
   ],
   "execution_count": 8
  },
  {
   "metadata": {
    "ExecuteTime": {
     "end_time": "2025-09-27T12:52:21.306709Z",
     "start_time": "2025-09-27T12:52:20.977021Z"
    }
   },
   "cell_type": "code",
   "source": "df.drop(columns=[\"Unnamed: 0\"], inplace=True)",
   "id": "b66148a81cd44e52",
   "outputs": [],
   "execution_count": 9
  },
  {
   "metadata": {
    "ExecuteTime": {
     "end_time": "2025-09-27T12:53:34.413885Z",
     "start_time": "2025-09-27T12:53:20.668322Z"
    }
   },
   "cell_type": "code",
   "source": "df.describe()",
   "id": "4be6f3593427e9a5",
   "outputs": [
    {
     "data": {
      "text/plain": [
       "                    title                                    ingredients  \\\n",
       "count             2231141                                        2231142   \n",
       "unique            1312870                                        2226362   \n",
       "top     Chicken Casserole  [\"1 c. peanut butter\", \"1 c. sugar\", \"1 egg\"]   \n",
       "freq                 4099                                             28   \n",
       "\n",
       "                               directions  \\\n",
       "count                             2231142   \n",
       "unique                            2211644   \n",
       "top     [\"Mix all ingredients together.\"]   \n",
       "freq                                  274   \n",
       "\n",
       "                                                  link    source      NER  \n",
       "count                                          2231142   2231142  2231142  \n",
       "unique                                         2231142         2  2133496  \n",
       "top     www.cookbooks.com/Recipe-Details.aspx?id=44874  Gathered       []  \n",
       "freq                                                 1   1643098      573  "
      ],
      "text/html": [
       "<div>\n",
       "<style scoped>\n",
       "    .dataframe tbody tr th:only-of-type {\n",
       "        vertical-align: middle;\n",
       "    }\n",
       "\n",
       "    .dataframe tbody tr th {\n",
       "        vertical-align: top;\n",
       "    }\n",
       "\n",
       "    .dataframe thead th {\n",
       "        text-align: right;\n",
       "    }\n",
       "</style>\n",
       "<table border=\"1\" class=\"dataframe\">\n",
       "  <thead>\n",
       "    <tr style=\"text-align: right;\">\n",
       "      <th></th>\n",
       "      <th>title</th>\n",
       "      <th>ingredients</th>\n",
       "      <th>directions</th>\n",
       "      <th>link</th>\n",
       "      <th>source</th>\n",
       "      <th>NER</th>\n",
       "    </tr>\n",
       "  </thead>\n",
       "  <tbody>\n",
       "    <tr>\n",
       "      <th>count</th>\n",
       "      <td>2231141</td>\n",
       "      <td>2231142</td>\n",
       "      <td>2231142</td>\n",
       "      <td>2231142</td>\n",
       "      <td>2231142</td>\n",
       "      <td>2231142</td>\n",
       "    </tr>\n",
       "    <tr>\n",
       "      <th>unique</th>\n",
       "      <td>1312870</td>\n",
       "      <td>2226362</td>\n",
       "      <td>2211644</td>\n",
       "      <td>2231142</td>\n",
       "      <td>2</td>\n",
       "      <td>2133496</td>\n",
       "    </tr>\n",
       "    <tr>\n",
       "      <th>top</th>\n",
       "      <td>Chicken Casserole</td>\n",
       "      <td>[\"1 c. peanut butter\", \"1 c. sugar\", \"1 egg\"]</td>\n",
       "      <td>[\"Mix all ingredients together.\"]</td>\n",
       "      <td>www.cookbooks.com/Recipe-Details.aspx?id=44874</td>\n",
       "      <td>Gathered</td>\n",
       "      <td>[]</td>\n",
       "    </tr>\n",
       "    <tr>\n",
       "      <th>freq</th>\n",
       "      <td>4099</td>\n",
       "      <td>28</td>\n",
       "      <td>274</td>\n",
       "      <td>1</td>\n",
       "      <td>1643098</td>\n",
       "      <td>573</td>\n",
       "    </tr>\n",
       "  </tbody>\n",
       "</table>\n",
       "</div>"
      ]
     },
     "execution_count": 14,
     "metadata": {},
     "output_type": "execute_result"
    }
   ],
   "execution_count": 14
  },
  {
   "metadata": {
    "ExecuteTime": {
     "end_time": "2025-09-27T12:54:38.439269Z",
     "start_time": "2025-09-27T12:54:38.433280Z"
    }
   },
   "cell_type": "code",
   "source": "df.info()",
   "id": "2c2a3991951e5540",
   "outputs": [
    {
     "name": "stdout",
     "output_type": "stream",
     "text": [
      "<class 'pandas.core.frame.DataFrame'>\n",
      "RangeIndex: 2231142 entries, 0 to 2231141\n",
      "Data columns (total 6 columns):\n",
      " #   Column       Dtype \n",
      "---  ------       ----- \n",
      " 0   title        object\n",
      " 1   ingredients  object\n",
      " 2   directions   object\n",
      " 3   link         object\n",
      " 4   source       object\n",
      " 5   NER          object\n",
      "dtypes: object(6)\n",
      "memory usage: 102.1+ MB\n"
     ]
    }
   ],
   "execution_count": 15
  },
  {
   "metadata": {
    "ExecuteTime": {
     "end_time": "2025-09-27T12:56:50.458367Z",
     "start_time": "2025-09-27T12:56:49.752794Z"
    }
   },
   "cell_type": "code",
   "source": "df.isnull().sum()",
   "id": "7053b0edd16b6ffe",
   "outputs": [
    {
     "data": {
      "text/plain": [
       "title          1\n",
       "ingredients    0\n",
       "directions     0\n",
       "link           0\n",
       "source         0\n",
       "NER            0\n",
       "dtype: int64"
      ]
     },
     "execution_count": 16,
     "metadata": {},
     "output_type": "execute_result"
    }
   ],
   "execution_count": 16
  },
  {
   "metadata": {
    "ExecuteTime": {
     "end_time": "2025-09-27T13:05:42.596120Z",
     "start_time": "2025-09-27T13:05:41.979342Z"
    }
   },
   "cell_type": "code",
   "source": [
    "rows_with_nan = df[df.isna().any(axis=1)]\n",
    "pd.set_option('display.max_colwidth', None)\n",
    "print(rows_with_nan)"
   ],
   "id": "c6bb403355ee9084",
   "outputs": [
    {
     "name": "stdout",
     "output_type": "stream",
     "text": [
      "        title         ingredients  \\\n",
      "1394448   NaN  [\"2 pieces bacon\"]   \n",
      "\n",
      "                                                                                                                                                                                                                                                                                                                                                                                                                                                                                                                                                                                                                                                                                                                                                                                                                                                                                                                                                                                                                                                                                                                                                                                                                                                      directions  \\\n",
      "1394448  [\"Slice bacon into lardons, place in nonstick skillet and cook on medium heat until crisp and fat is rendered- about 7 minutes.\", \"Meanwhile, in a small bowl add: fermented bean paste, gochujang, soy sauce, honey, coarse black pepper and kosher salt. Stir to combine, set aside. Cut onion into a small dice, slice garlic, and cube tofu- set aside.\", \"Once the bacon is cooked, drain on a paper towel and drain all but 1 tablespoon of bacon fat from the pan. On medium high heat, add the onion and garlic and sweat until translucent.\", \"Add tofu to the pan and turn heat up to high, lightly frying the tofu in the bacon fat. Toss and brown until heated through- about 3 minutes. Add the spicy sauce and 1/3 cup of water to the tofu, stirring gently to prevent breaking up the tofu. Cook on high for 4-6 minutes until sauce has thickened and coated the tofu. Turn off heat and drizzle tofu with sesame oil.\", \"Slice green onions on a bias and place in a small bowl. Dress the green onions with a pinch of gochugaru (red pepper flakes) and 2 teaspoons of rice wine vinegar.\", \"Spoon tofu into a shallow bowl and garnish with dressed green onions and crisp bacon. Serve with white rice and devour immediately.\"]   \n",
      "\n",
      "                                  link    source        NER  \n",
      "1394448  food52.com/recipes/57431-none  Gathered  [\"bacon\"]  \n"
     ]
    }
   ],
   "execution_count": 28
  },
  {
   "metadata": {},
   "cell_type": "markdown",
   "source": "Found this recipe on food52 website. Changed title, ingredients and link so that it matches the real recipe.",
   "id": "76fdabe786cabc6c"
  },
  {
   "metadata": {},
   "cell_type": "code",
   "outputs": [],
   "execution_count": null,
   "source": "",
   "id": "3673a04dcafb29ea"
  }
 ],
 "metadata": {
  "kernelspec": {
   "display_name": "Python 3",
   "language": "python",
   "name": "python3"
  },
  "language_info": {
   "codemirror_mode": {
    "name": "ipython",
    "version": 2
   },
   "file_extension": ".py",
   "mimetype": "text/x-python",
   "name": "python",
   "nbconvert_exporter": "python",
   "pygments_lexer": "ipython2",
   "version": "2.7.6"
  }
 },
 "nbformat": 4,
 "nbformat_minor": 5
}
